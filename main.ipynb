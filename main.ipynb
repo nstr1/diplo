{
 "cells": [
  {
   "cell_type": "markdown",
   "metadata": {},
   "source": [
    "## Load data"
   ]
  },
  {
   "cell_type": "code",
   "execution_count": 2,
   "metadata": {},
   "outputs": [],
   "source": [
    "import pandas as pd"
   ]
  },
  {
   "cell_type": "code",
   "execution_count": 11,
   "metadata": {},
   "outputs": [],
   "source": [
    "df = pd.read_csv(\"merged.csv\", engine='python')"
   ]
  },
  {
   "cell_type": "code",
   "execution_count": 15,
   "metadata": {},
   "outputs": [],
   "source": [
    "pd.set_option('display.max_colwidth', None)\n",
    "pd.set_option('display.max_rows', 200)"
   ]
  },
  {
   "cell_type": "code",
   "execution_count": null,
   "metadata": {},
   "outputs": [],
   "source": [
    "df.head"
   ]
  },
  {
   "cell_type": "code",
   "execution_count": 6,
   "metadata": {},
   "outputs": [
    {
     "data": {
      "text/plain": [
       "(18724238, 8)"
      ]
     },
     "execution_count": 6,
     "metadata": {},
     "output_type": "execute_result"
    }
   ],
   "source": [
    "df.shape"
   ]
  },
  {
   "cell_type": "code",
   "execution_count": 19,
   "metadata": {},
   "outputs": [
    {
     "data": {
      "text/plain": [
       "Index(['Unnamed: 0.2', 'Unnamed: 0.1', 'Unnamed: 0', 'location', 'followers',\n",
       "       'tweetcreatedts', 'retweetcount', 'text', 'hashtags', 'language',\n",
       "       'times', 'sentiment'],\n",
       "      dtype='object')"
      ]
     },
     "execution_count": 19,
     "metadata": {},
     "output_type": "execute_result"
    }
   ],
   "source": [
    "df.columns"
   ]
  },
  {
   "cell_type": "markdown",
   "metadata": {},
   "source": [
    "NaNs already dropped"
   ]
  },
  {
   "cell_type": "code",
   "execution_count": 40,
   "metadata": {},
   "outputs": [
    {
     "data": {
      "text/plain": [
       "0           ⚡The Ukrainian Air Force would like to address...\n",
       "1           JUST IN: #Anonymous has hacked &amp; released ...\n",
       "2           ***PUBLIC MINT NOW LIVE***\\n\\nFor \\n@billionai...\n",
       "3           &amp;quot;How we were waiting for you!&amp;quo...\n",
       "4           India's purchase of discounted #Russian crude ...\n",
       "                                  ...                        \n",
       "12786431    I'll be joining @Lawrence tonight on @TheLastW...\n",
       "12786432    We’ve lost already thousands of people killed,...\n",
       "12786433    ⚡The Ukrainian Air Force would like to address...\n",
       "12786434    Amb. William Taylor, former U.S. Ambassador to...\n",
       "12786435    #MARIUPOL—However, even at #Ilyich, #Ukraine|i...\n",
       "Name: text, Length: 12786436, dtype: object"
      ]
     },
     "execution_count": 40,
     "metadata": {},
     "output_type": "execute_result"
    }
   ],
   "source": [
    "df.text"
   ]
  },
  {
   "cell_type": "markdown",
   "metadata": {},
   "source": [
    "## Exploratory data analysis"
   ]
  },
  {
   "cell_type": "code",
   "execution_count": 15,
   "metadata": {},
   "outputs": [],
   "source": [
    "import seaborn as sns\n",
    "import matplotlib.pyplot as plt"
   ]
  },
  {
   "cell_type": "code",
   "execution_count": 9,
   "metadata": {},
   "outputs": [],
   "source": [
    "sns.set_style(\"darkgrid\")"
   ]
  },
  {
   "cell_type": "markdown",
   "metadata": {},
   "source": [
    "### Most used language"
   ]
  },
  {
   "cell_type": "code",
   "execution_count": 10,
   "metadata": {},
   "outputs": [
    {
     "data": {
      "image/png": "[encoded data removed]",
      "text/plain": [
       "<Figure size 2160x720 with 1 Axes>"
      ]
     },
     "metadata": {
      "needs_background": "light"
     },
     "output_type": "display_data"
    }
   ],
   "source": [
    "plt.figure(figsize=(30, 10))\n",
    "ax = sns.countplot(x=df['language'], data=df, order = df['language'].value_counts().index)"
   ]
  },
  {
   "cell_type": "markdown",
   "metadata": {},
   "source": [
    "### Remove grammys hashtags"
   ]
  },
  {
   "cell_type": "code",
   "execution_count": 68,
   "metadata": {},
   "outputs": [],
   "source": [
    "df = df.drop(df[df.hashtags == '[]'].index)\n",
    "df = df.drop(df[df.hashtags == '[{\\'text\\': \\'oscars\\', \\'indices\\': [69, 76]}]'].index)\n",
    "df = df.drop(df[df.hashtags == '[{\\'text\\': \\'오늘의방탄\\', \\'indices\\': [17, 23]}, {\\'text\\': \\'BTS\\', \\'indices\\': [25, 29]}, {\\'text\\': \\'GRAMMYs\\', \\'indices\\': [33, 41]}]'].index)\n",
    "df = df.drop(df[df.hashtags == '[{\\'text\\': \\'GRAMMYs\\', \\'indices\\': [45, 53]}, {\\'text\\': \\'BTS\\', \\'indices\\': [121, 125]}, {\\'text\\': \\'방탄소년단\\', \\'indices\\': [126, 132]}]'].index)\n",
    "df = df.drop(df[df.hashtags == '[{\\'text\\': \\'GRAMMYs\\', \\'indices\\': [71, 79]}, {\\'text\\': \\'BTS\\', \\'indices\\': [132, 136]}]'].index)\n",
    "df = df.drop(df[df.hashtags == '[{\\'text\\': \\'BTS\\', \\'indices\\': [36, 40]}, {\\'text\\': \\'GRAMMYS\\', \\'indices\\': [68, 76]}]'].index)\n",
    "df = df.drop(df[df.hashtags == \"[{'text': 'Grammys', 'indices': [36, 44]}]\"].index)\n",
    "\n"
   ]
  },
  {
   "cell_type": "markdown",
   "metadata": {},
   "source": [
    "### Get 5 most retweeted unique posts"
   ]
  },
  {
   "cell_type": "code",
   "execution_count": 102,
   "metadata": {},
   "outputs": [],
   "source": [
    "sorted_tweets = df[['text','retweetcount']].sort_values(by='retweetcount', ascending=False)"
   ]
  },
  {
   "cell_type": "code",
   "execution_count": 104,
   "metadata": {},
   "outputs": [
    {
     "data": {
      "text/plain": [
       "text                                                                                                                                                                                                                                                                                                               retweetcount\n",
       "BREAKING: @JustinTrudeau risks life and limb by traveling to #Ukraine and walking around outdoors without the protection of an N95 facemask.\\n\\n👇🏻 https://t.co/t3RRCdnKNP                                                                                                                                         145             1\n",
       "                                                                                                                                                                                                                                                                                                                   108             1\n",
       "                                                                                                                                                                                                                                                                                                                   77              1\n",
       "                                                                                                                                                                                                                                                                                                                   59              1\n",
       "🫶🐶That was a very special decoration! \\nA bomb-sniffing dog, called Patron (#Ukrainian  for 'bullet') had received a state award from @ZelenskyyUa \\nThe dog of Chernyhiv pyrotechnics was awarded \"For dedicated service\" !\\nThe award was handed to his owner Mykhailo Ilyev.\\n#Ukriane https://t.co/HmXSoT5re3  7               1\n",
       "dtype: int64"
      ]
     },
     "execution_count": 104,
     "metadata": {},
     "output_type": "execute_result"
    }
   ],
   "source": [
    "sorted_tweets[['text', 'retweetcount']].value_counts().tail(5)"
   ]
  },
  {
   "cell_type": "markdown",
   "metadata": {},
   "source": [
    "## Pick en"
   ]
  },
  {
   "cell_type": "code",
   "execution_count": null,
   "metadata": {},
   "outputs": [],
   "source": [
    "df = df.loc[df['language'] == 'en']"
   ]
  },
  {
   "cell_type": "code",
   "execution_count": 13,
   "metadata": {},
   "outputs": [],
   "source": [
    "df.to_csv('en.csv')"
   ]
  },
  {
   "cell_type": "markdown",
   "metadata": {},
   "source": [
    "## Processs time"
   ]
  },
  {
   "cell_type": "code",
   "execution_count": 6,
   "metadata": {},
   "outputs": [],
   "source": [
    "from datetime import datetime as dt"
   ]
  },
  {
   "cell_type": "code",
   "execution_count": 3,
   "metadata": {},
   "outputs": [],
   "source": [
    "df = pd.read_csv('en.csv')"
   ]
  },
  {
   "cell_type": "code",
   "execution_count": 4,
   "metadata": {},
   "outputs": [
    {
     "data": {
      "text/plain": [
       "(12786436, 9)"
      ]
     },
     "execution_count": 4,
     "metadata": {},
     "output_type": "execute_result"
    }
   ],
   "source": [
    "df.shape"
   ]
  },
  {
   "cell_type": "code",
   "execution_count": 5,
   "metadata": {},
   "outputs": [
    {
     "data": {
      "text/plain": [
       "0           2022-04-01 00:00:00\n",
       "1           2022-04-01 00:00:00\n",
       "2           2022-04-01 00:00:00\n",
       "3           2022-04-01 00:00:00\n",
       "4           2022-04-01 00:00:00\n",
       "                   ...         \n",
       "12786431    2022-03-31 23:43:10\n",
       "12786432    2022-03-31 23:43:10\n",
       "12786433    2022-03-31 23:43:11\n",
       "12786434    2022-03-31 23:43:11\n",
       "12786435    2022-03-31 23:43:12\n",
       "Name: tweetcreatedts, Length: 12786436, dtype: object"
      ]
     },
     "execution_count": 5,
     "metadata": {},
     "output_type": "execute_result"
    }
   ],
   "source": [
    "df['tweetcreatedts']"
   ]
  },
  {
   "cell_type": "code",
   "execution_count": 10,
   "metadata": {},
   "outputs": [],
   "source": [
    "df['times'] = pd.to_datetime(df['tweetcreatedts']).dt.date"
   ]
  },
  {
   "cell_type": "code",
   "execution_count": 11,
   "metadata": {},
   "outputs": [
    {
     "data": {
      "text/plain": [
       "0           2022-04-01\n",
       "1           2022-04-01\n",
       "2           2022-04-01\n",
       "3           2022-04-01\n",
       "4           2022-04-01\n",
       "               ...    \n",
       "12786431    2022-03-31\n",
       "12786432    2022-03-31\n",
       "12786433    2022-03-31\n",
       "12786434    2022-03-31\n",
       "12786435    2022-03-31\n",
       "Name: times, Length: 12786436, dtype: object"
      ]
     },
     "execution_count": 11,
     "metadata": {},
     "output_type": "execute_result"
    }
   ],
   "source": [
    "df['times']"
   ]
  },
  {
   "cell_type": "code",
   "execution_count": 22,
   "metadata": {},
   "outputs": [
    {
     "data": {
      "text/plain": [
       "Index(['location', 'followers', 'tweetcreatedts', 'retweetcount', 'text',\n",
       "       'hashtags', 'language', 'times', 'sentiment'],\n",
       "      dtype='object')"
      ]
     },
     "execution_count": 22,
     "metadata": {},
     "output_type": "execute_result"
    }
   ],
   "source": [
    "df.columns"
   ]
  },
  {
   "cell_type": "code",
   "execution_count": 23,
   "metadata": {},
   "outputs": [],
   "source": [
    "df.to_csv('times.csv',index=False)"
   ]
  },
  {
   "cell_type": "markdown",
   "metadata": {},
   "source": [
    "## Sentiment analysis"
   ]
  },
  {
   "cell_type": "code",
   "execution_count": 4,
   "metadata": {},
   "outputs": [],
   "source": [
    "df = pd.read_csv('times.csv')"
   ]
  },
  {
   "cell_type": "code",
   "execution_count": 16,
   "metadata": {},
   "outputs": [],
   "source": [
    "import nltk\n",
    "from nltk.sentiment.vader import SentimentIntensityAnalyzer as SIA\n",
    "import re\n",
    "import ssl\n"
   ]
  },
  {
   "cell_type": "code",
   "execution_count": 5,
   "metadata": {},
   "outputs": [],
   "source": [
    "try:\n",
    "    _create_unverified_https_context = ssl._create_unverified_context\n",
    "except AttributeError:\n",
    "    pass\n",
    "else:\n",
    "    ssl._create_default_https_context = _create_unverified_https_context"
   ]
  },
  {
   "cell_type": "code",
   "execution_count": 6,
   "metadata": {},
   "outputs": [
    {
     "name": "stderr",
     "output_type": "stream",
     "text": [
      "[nltk_data] Downloading package vader_lexicon to\n",
      "[nltk_data]     /Users/nandrusiak/nltk_data...\n",
      "[nltk_data]   Package vader_lexicon is already up-to-date!\n",
      "[nltk_data] Downloading package punkt to\n",
      "[nltk_data]     /Users/nandrusiak/nltk_data...\n",
      "[nltk_data]   Package punkt is already up-to-date!\n"
     ]
    },
    {
     "data": {
      "text/plain": [
       "True"
      ]
     },
     "execution_count": 6,
     "metadata": {},
     "output_type": "execute_result"
    }
   ],
   "source": [
    "stopwords = nltk.corpus.stopwords.words(\"english\")\n",
    "nltk.download('vader_lexicon')\n",
    "nltk.download('punkt')"
   ]
  },
  {
   "cell_type": "code",
   "execution_count": 7,
   "metadata": {},
   "outputs": [],
   "source": [
    "sia = SIA()"
   ]
  },
  {
   "cell_type": "code",
   "execution_count": 8,
   "metadata": {},
   "outputs": [],
   "source": [
    "def get_sentiment(text):\n",
    "\n",
    "    text = re.sub(r'http\\S+', '', text)      # remove links\n",
    "    text = re.sub(\"@[A-Za-z0-9_]+\",\"\", text) # remove mentions\n",
    "    text = re.sub(\"#[A-Za-z0-9_]+\",\"\", text) # remove hashtags\n",
    "\n",
    "    scores = sia.polarity_scores(text)\n",
    "\n",
    "    return scores['compound']"
   ]
  },
  {
   "cell_type": "code",
   "execution_count": 9,
   "metadata": {},
   "outputs": [
    {
     "data": {
      "text/plain": [
       "0.8316"
      ]
     },
     "execution_count": 9,
     "metadata": {},
     "output_type": "execute_result"
    }
   ],
   "source": [
    "get_sentiment(\"i love happiness\")"
   ]
  },
  {
   "cell_type": "code",
   "execution_count": 10,
   "metadata": {},
   "outputs": [
    {
     "data": {
      "text/plain": [
       "-0.765"
      ]
     },
     "execution_count": 10,
     "metadata": {},
     "output_type": "execute_result"
    }
   ],
   "source": [
    "get_sentiment(\"i hate sadness\")"
   ]
  },
  {
   "cell_type": "code",
   "execution_count": 11,
   "metadata": {},
   "outputs": [],
   "source": [
    "df['sentiment'] = df['text'].map(get_sentiment)"
   ]
  },
  {
   "cell_type": "code",
   "execution_count": 24,
   "metadata": {},
   "outputs": [],
   "source": [
    "df.to_csv('sentiments.csv')"
   ]
  },
  {
   "cell_type": "markdown",
   "metadata": {},
   "source": [
    "## Refine tweet locations"
   ]
  },
  {
   "cell_type": "code",
   "execution_count": 8,
   "metadata": {},
   "outputs": [],
   "source": [
    "df = pd.read_csv('countries.csv')"
   ]
  },
  {
   "cell_type": "code",
   "execution_count": 9,
   "metadata": {},
   "outputs": [],
   "source": [
    "df['country'] = df['country'].replace(['United States', 'România', 'Україна', 'Россия', 'España', 'Deutschland', '中国', 'Polska','日本','Éire / Ireland','Ελλάς'], \n",
    "                                    ['United States of America', 'Romania', 'Ukraine', 'Russia', 'Spain', 'Germany','China','Poland','Japan','Ireland','Greece'])\n",
    "\n",
    "df['country'] = df['country'].replace(['Pilipinas / Philippines','ایران','대한민국','México','Eesti','New Zealand / Aotearoa','Nederland','België / Belgique / Belgien','Italia'],\n",
    "                                     ['Philippines','Iran','South Korea','Mexico','Estonia','New Zeland','Netherlands','Belgium','Italy'])\n",
    "\n",
    "df['country'] = df['country'].replace(['Србија','Suomi / Finland','المغرب','Ísland','Azərbaycan','Հայաստան','ประเทศไทย','Қазақстан','Sverige','Бългaрия'],\n",
    "                                       ['Republic of Serbia','Finland','Morocco','Iceland','Azerbaijan','Armenia','Thailand','Kazakhstan','Sweden','Bulgaria']) \n",
    "\n",
    "df['country'] = df['country'].replace(['Schweiz/Suisse/Svizzera/Svizra','پاکستان','Česko','Österreich','Norge','Danmark','Latvija','ኢትዮጵያ', 'ישראל','Türkiye'],\n",
    "                                        ['Switzerland','Pakistan','Czech Republic','Austria','Norway','Denmark','Latvia','Ethiopia','Israel','Turkey'])       \n",
    "\n",
    "df['country'] = df['country'].replace(['Lietuva','臺灣','الإمارات العربية المتحدة','Slovensko','Κύπρος - Kıbrıs','বাংলাদেশ','Việt Nam','საქართველო','Hrvatska','السعودية','Bosna i Hercegovina / Босна и Херцеговина'],\n",
    "                                        ['Lithuania','Taiwan','United Arab Emirates','Slovenia','Cyprus','Bangladesh','Vietnam','Georgia','Croatia','Saudi Arabia','Bosnia and Herzegovina'])      \n",
    "\n",
    "df['country'] = df['country'].replace(['Кыргызстан','Brasil','Magyarország','Тоҷикистон'],\n",
    "                                       ['Kyrgyzstan','Brazil','Hungary','Tajikistan'])        "
   ]
  },
  {
   "cell_type": "code",
   "execution_count": 10,
   "metadata": {},
   "outputs": [
    {
     "data": {
      "text/plain": [
       "United States of America            25578\n",
       "United Kingdom                       9461\n",
       "Ukraine                              4625\n",
       "Canada                               4478\n",
       "India                                3599\n",
       "                                    ...  \n",
       "Gambia                                  1\n",
       "Saint Vincent and the Grenadines        1\n",
       "Pitcairn Islands                        1\n",
       "Saint Lucia                             1\n",
       "Brunei                                  1\n",
       "Name: country, Length: 203, dtype: int64"
      ]
     },
     "execution_count": 10,
     "metadata": {},
     "output_type": "execute_result"
    }
   ],
   "source": [
    "df['country'].value_counts()"
   ]
  },
  {
   "cell_type": "code",
   "execution_count": 11,
   "metadata": {},
   "outputs": [],
   "source": [
    "df.to_csv('countries.csv')"
   ]
  },
  {
   "cell_type": "markdown",
   "metadata": {},
   "source": [
    "## Aggregate by date and time"
   ]
  },
  {
   "cell_type": "code",
   "execution_count": 18,
   "metadata": {},
   "outputs": [],
   "source": [
    "df= pd.read_csv('countries.csv')"
   ]
  },
  {
   "cell_type": "code",
   "execution_count": null,
   "metadata": {},
   "outputs": [],
   "source": [
    "dfs = dict(tuple(df.groupby('times')))"
   ]
  },
  {
   "cell_type": "markdown",
   "metadata": {},
   "source": [
    "## Map plot"
   ]
  },
  {
   "cell_type": "code",
   "execution_count": 19,
   "metadata": {},
   "outputs": [],
   "source": [
    "import folium\n"
   ]
  },
  {
   "cell_type": "code",
   "execution_count": 20,
   "metadata": {},
   "outputs": [],
   "source": [
    "url = 'https://raw.githubusercontent.com/python-visualization/folium/master/examples/data'\n",
    "\n",
    "country_shapes = f'{url}/world-countries.json'"
   ]
  },
  {
   "cell_type": "code",
   "execution_count": 21,
   "metadata": {},
   "outputs": [
    {
     "name": "stdout",
     "output_type": "stream",
     "text": [
      "2022-02-24 (938, 15)\n",
      "2022-02-25 (1512, 15)\n",
      "2022-02-26 (1672, 15)\n",
      "2022-02-27 (1802, 15)\n",
      "2022-02-28 (1498, 15)\n",
      "2022-03-01 (1591, 15)\n",
      "2022-03-02 (1730, 15)\n",
      "2022-03-03 (1609, 15)\n",
      "2022-03-04 (1899, 15)\n",
      "2022-03-05 (877, 15)\n",
      "2022-04-01 (1575, 15)\n",
      "2022-04-02 (1633, 15)\n",
      "2022-04-03 (1865, 15)\n",
      "2022-04-04 (1727, 15)\n",
      "2022-04-05 (1757, 15)\n",
      "2022-04-06 (1746, 15)\n",
      "2022-04-07 (1555, 15)\n",
      "2022-04-08 (1603, 15)\n",
      "2022-04-09 (1707, 15)\n",
      "2022-04-10 (1571, 15)\n",
      "2022-04-11 (1609, 15)\n",
      "2022-04-12 (1620, 15)\n",
      "2022-04-13 (1615, 15)\n",
      "2022-04-14 (1432, 15)\n",
      "2022-04-15 (1477, 15)\n",
      "2022-04-16 (1340, 15)\n",
      "2022-04-17 (1350, 15)\n",
      "2022-04-18 (1370, 15)\n",
      "2022-04-19 (1656, 15)\n",
      "2022-04-20 (1487, 15)\n",
      "2022-04-21 (1397, 15)\n",
      "2022-04-22 (1301, 15)\n",
      "2022-04-23 (1394, 15)\n",
      "2022-04-24 (1308, 15)\n",
      "2022-04-25 (1264, 15)\n",
      "2022-04-26 (1454, 15)\n",
      "2022-04-27 (1270, 15)\n",
      "2022-04-28 (1197, 15)\n",
      "2022-04-29 (1288, 15)\n",
      "2022-04-30 (1297, 15)\n",
      "2022-05-01 (1402, 15)\n",
      "2022-05-02 (1294, 15)\n",
      "2022-05-03 (1291, 15)\n",
      "2022-05-04 (1618, 15)\n",
      "2022-05-05 (1806, 15)\n",
      "2022-05-06 (1369, 15)\n",
      "2022-05-07 (1313, 15)\n",
      "2022-05-08 (1497, 15)\n",
      "2022-05-09 (1626, 15)\n",
      "2022-05-10 (1442, 15)\n",
      "2022-05-11 (1356, 15)\n",
      "2022-05-12 (1299, 15)\n",
      "2022-05-13 (1139, 15)\n",
      "2022-05-14 (1186, 15)\n",
      "2022-05-15 (1323, 15)\n",
      "2022-05-16 (1372, 15)\n",
      "2022-05-17 (1247, 15)\n",
      "2022-05-18 (46, 15)\n"
     ]
    }
   ],
   "source": [
    "for k, v in dfs.items():\n",
    "    print(f\"{k} {v.shape}\")\n",
    "    ch_map = folium.Map(tiles=\"cartodbpositron\", min_zoom=2, max_bounds=True)\n",
    "    folium.Choropleth(\n",
    "        geo_data=country_shapes,\n",
    "        name='choropleth',\n",
    "        data=v,\n",
    "        columns=['country', 'sentiment'],\n",
    "        key_on='feature.properties.name',\n",
    "        fill_color='RdYlGn',\n",
    "        fill_opacity=0.7,\n",
    "        line_opacity=0.2,\n",
    "        nan_fill_color='white'\n",
    "    ).add_to(ch_map)\n",
    "\n",
    "    ch_map.save(f\"maps/{str(k)}.html\")"
   ]
  },
  {
   "cell_type": "markdown",
   "metadata": {},
   "source": [
    "## Analysyis of most popular users and sentiment of their posts\n",
    "\n"
   ]
  },
  {
   "cell_type": "markdown",
   "metadata": {},
   "source": [
    "## Random\n"
   ]
  },
  {
   "cell_type": "code",
   "execution_count": 3,
   "metadata": {},
   "outputs": [],
   "source": [
    "df = pd.read_csv('reduced.csv')"
   ]
  },
  {
   "cell_type": "code",
   "execution_count": 4,
   "metadata": {},
   "outputs": [
    {
     "data": {
      "text/plain": [
       "(159831, 12)"
      ]
     },
     "execution_count": 4,
     "metadata": {},
     "output_type": "execute_result"
    }
   ],
   "source": [
    "df.shape"
   ]
  },
  {
   "cell_type": "code",
   "execution_count": 1,
   "metadata": {},
   "outputs": [
    {
     "ename": "NameError",
     "evalue": "name 'df' is not defined",
     "output_type": "error",
     "traceback": [
      "\u001b[0;31m---------------------------------------------------------------------------\u001b[0m",
      "\u001b[0;31mNameError\u001b[0m                                 Traceback (most recent call last)",
      "\u001b[1;32m/Users/nandrusiak/diplo/main.ipynb Cell 61'\u001b[0m in \u001b[0;36m<cell line: 1>\u001b[0;34m()\u001b[0m\n\u001b[0;32m----> <a href='vscode-notebook-cell:/Users/nandrusiak/diplo/main.ipynb#ch0000094?line=0'>1</a>\u001b[0m df \u001b[39m=\u001b[39m df\u001b[39m.\u001b[39miloc[::\u001b[39m2\u001b[39m, :]\n\u001b[1;32m      <a href='vscode-notebook-cell:/Users/nandrusiak/diplo/main.ipynb#ch0000094?line=1'>2</a>\u001b[0m df\u001b[39m.\u001b[39mshape\n",
      "\u001b[0;31mNameError\u001b[0m: name 'df' is not defined"
     ]
    }
   ],
   "source": [
    "df = df.iloc[::2, :]\n",
    "df.shape"
   ]
  },
  {
   "cell_type": "code",
   "execution_count": 8,
   "metadata": {},
   "outputs": [],
   "source": [
    "df.to_csv('reduced.csv')"
   ]
  },
  {
   "cell_type": "code",
   "execution_count": null,
   "metadata": {},
   "outputs": [],
   "source": []
  }
 ],
 "metadata": {
  "interpreter": {
   "hash": "aee8b7b246df8f9039afb4144a1f6fd8d2ca17a180786b69acc140d282b71a49"
  },
  "kernelspec": {
   "display_name": "Python 3.10.4 64-bit",
   "language": "python",
   "name": "python3"
  },
  "language_info": {
   "codemirror_mode": {
    "name": "ipython",
    "version": 3
   },
   "file_extension": ".py",
   "mimetype": "text/x-python",
   "name": "python",
   "nbconvert_exporter": "python",
   "pygments_lexer": "ipython3",
   "version": "3.10.4"
  },
  "orig_nbformat": 4
 },
 "nbformat": 4,
 "nbformat_minor": 2
}
